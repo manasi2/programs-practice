{
 "cells": [
  {
   "cell_type": "code",
   "execution_count": 14,
   "metadata": {},
   "outputs": [],
   "source": [
    "name='manasi'"
   ]
  },
  {
   "cell_type": "code",
   "execution_count": 2,
   "metadata": {},
   "outputs": [
    {
     "name": "stdout",
     "output_type": "stream",
     "text": [
      "Manasi\n"
     ]
    }
   ],
   "source": [
    "print(name.title())"
   ]
  },
  {
   "cell_type": "code",
   "execution_count": 3,
   "metadata": {},
   "outputs": [],
   "source": [
    "full_name='Manasi Patil'"
   ]
  },
  {
   "cell_type": "code",
   "execution_count": 4,
   "metadata": {},
   "outputs": [
    {
     "name": "stdout",
     "output_type": "stream",
     "text": [
      "Manasi Patil\n"
     ]
    }
   ],
   "source": [
    "print(full_name.title())"
   ]
  },
  {
   "cell_type": "code",
   "execution_count": 5,
   "metadata": {},
   "outputs": [
    {
     "name": "stdout",
     "output_type": "stream",
     "text": [
      "Manasi Patil\n"
     ]
    }
   ],
   "source": [
    "full_name='manasi patil'\n",
    "print(full_name.title())"
   ]
  },
  {
   "cell_type": "code",
   "execution_count": 6,
   "metadata": {},
   "outputs": [
    {
     "name": "stdout",
     "output_type": "stream",
     "text": [
      "MANASI PATIL\n"
     ]
    }
   ],
   "source": [
    "print(full_name.upper())"
   ]
  },
  {
   "cell_type": "code",
   "execution_count": 7,
   "metadata": {},
   "outputs": [
    {
     "name": "stdout",
     "output_type": "stream",
     "text": [
      "manasi patil\n"
     ]
    }
   ],
   "source": [
    "print(full_name.lower())"
   ]
  },
  {
   "cell_type": "code",
   "execution_count": 13,
   "metadata": {},
   "outputs": [
    {
     "name": "stdout",
     "output_type": "stream",
     "text": [
      "manasi patil\n"
     ]
    }
   ],
   "source": [
    "fname='manasi'\n",
    "lname='patil'\n",
    "sentence=f\"{fname} {lname}\"      #f string holds custom words-----{}\n",
    "print(sentence)"
   ]
  },
  {
   "cell_type": "code",
   "execution_count": 14,
   "metadata": {},
   "outputs": [
    {
     "name": "stdout",
     "output_type": "stream",
     "text": [
      "Manasi Patil\n"
     ]
    }
   ],
   "source": [
    "fname='manasi'\n",
    "lname='patil'\n",
    "sentence=f\"{(fname.title())} {(lname.title())}\"      #f string holds custom words-----{}\n",
    "print(sentence)"
   ]
  },
  {
   "cell_type": "code",
   "execution_count": 16,
   "metadata": {},
   "outputs": [
    {
     "name": "stdout",
     "output_type": "stream",
     "text": [
      "MANASI patil\n"
     ]
    }
   ],
   "source": [
    "fname='manasi'\n",
    "lname='patil'\n",
    "sentence=f\"{(fname.upper())} {(lname.lower())}\"      #f string holds custom words-----{}\n",
    "print(sentence)"
   ]
  },
  {
   "cell_type": "code",
   "execution_count": 17,
   "metadata": {},
   "outputs": [
    {
     "name": "stdout",
     "output_type": "stream",
     "text": [
      "fav_sub c++ java python c# c\n"
     ]
    }
   ],
   "source": [
    "print('fav_sub', 'c++', 'java', 'python', 'c#', 'c')"
   ]
  },
  {
   "cell_type": "code",
   "execution_count": 49,
   "metadata": {},
   "outputs": [
    {
     "name": "stdout",
     "output_type": "stream",
     "text": [
      "fav_sub are=\n",
      " c\n",
      " \tc++\n",
      " \t\toops\n",
      " java\n",
      " \tjavascript\n",
      " python\n",
      " \toracle\n"
     ]
    }
   ],
   "source": [
    "print('fav_sub are=\\n','c\\n','\\tc++\\n', '\\t\\toops\\n','java\\n','\\tjavascript\\n','python\\n', '\\toracle')"
   ]
  },
  {
   "cell_type": "code",
   "execution_count": 50,
   "metadata": {},
   "outputs": [
    {
     "name": "stdout",
     "output_type": "stream",
     "text": [
      "      manasi\n"
     ]
    }
   ],
   "source": [
    "name='      manasi'\n",
    "print(name)"
   ]
  },
  {
   "cell_type": "code",
   "execution_count": 51,
   "metadata": {},
   "outputs": [
    {
     "data": {
      "text/plain": [
       "'manasi'"
      ]
     },
     "execution_count": 51,
     "metadata": {},
     "output_type": "execute_result"
    }
   ],
   "source": [
    "name.lstrip()"
   ]
  },
  {
   "cell_type": "code",
   "execution_count": 52,
   "metadata": {},
   "outputs": [
    {
     "data": {
      "text/plain": [
       "'      manasi'"
      ]
     },
     "execution_count": 52,
     "metadata": {},
     "output_type": "execute_result"
    }
   ],
   "source": [
    "name.rstrip()"
   ]
  },
  {
   "cell_type": "code",
   "execution_count": 55,
   "metadata": {},
   "outputs": [
    {
     "data": {
      "text/plain": [
       "'sam     '"
      ]
     },
     "execution_count": 55,
     "metadata": {},
     "output_type": "execute_result"
    }
   ],
   "source": [
    "name1='   sam     '\n",
    "name1.lstrip()"
   ]
  },
  {
   "cell_type": "code",
   "execution_count": 56,
   "metadata": {},
   "outputs": [
    {
     "data": {
      "text/plain": [
       "'sam'"
      ]
     },
     "execution_count": 56,
     "metadata": {},
     "output_type": "execute_result"
    }
   ],
   "source": [
    "name1.strip()"
   ]
  },
  {
   "cell_type": "code",
   "execution_count": 2,
   "metadata": {},
   "outputs": [
    {
     "name": "stdout",
     "output_type": "stream",
     "text": [
      "['manasi', 'priya', 'sanika', 'mrunali', 'ankita', 'apurva', 'leena', 'vishakha', 'monali', 'nisha']\n"
     ]
    }
   ],
   "source": [
    "student=['manasi','priya','sanika','mrunali','ankita','apurva','leena','vishakha','monali','nisha']\n",
    "print(student)"
   ]
  },
  {
   "cell_type": "code",
   "execution_count": 58,
   "metadata": {},
   "outputs": [
    {
     "data": {
      "text/plain": [
       "'sanika'"
      ]
     },
     "execution_count": 58,
     "metadata": {},
     "output_type": "execute_result"
    }
   ],
   "source": [
    "student[2]"
   ]
  },
  {
   "cell_type": "code",
   "execution_count": 4,
   "metadata": {},
   "outputs": [
    {
     "name": "stdout",
     "output_type": "stream",
     "text": [
      "Priya\n",
      "Mrunali\n",
      "Leena\n",
      "Nisha\n"
     ]
    }
   ],
   "source": [
    "print(student[1].title())\n",
    "print(student[3].title())\n",
    "print(student[6].title())\n",
    "print(student[9].title())"
   ]
  },
  {
   "cell_type": "code",
   "execution_count": 5,
   "metadata": {},
   "outputs": [
    {
     "name": "stdout",
     "output_type": "stream",
     "text": [
      "priya mrunali leena nisha\n"
     ]
    }
   ],
   "source": [
    "print(student[1],student[3],student[6],student[9])"
   ]
  },
  {
   "cell_type": "code",
   "execution_count": null,
   "metadata": {},
   "outputs": [],
   "source": [
    "#how to add new Element in list"
   ]
  },
  {
   "cell_type": "code",
   "execution_count": 3,
   "metadata": {},
   "outputs": [
    {
     "name": "stdout",
     "output_type": "stream",
     "text": [
      "['manasi', 'priya', 'sanika', 'mrunali', 'ankita', 'apurva', 'leena', 'vishakha', 'monali', 'nisha', 'pooja']\n"
     ]
    }
   ],
   "source": [
    "student.append('pooja')    #append use for add element at the last of list\n",
    "print(student)"
   ]
  },
  {
   "cell_type": "code",
   "execution_count": 5,
   "metadata": {},
   "outputs": [
    {
     "name": "stdout",
     "output_type": "stream",
     "text": [
      "['manasi', 'priya', 'aayush', 'sanika', 'mrunali', 'ankita', 'apurva', 'leena', 'vishakha', 'monali', 'nisha', 'pooja']\n"
     ]
    }
   ],
   "source": [
    "student.insert(2,'aayush')  #insert use to add element in list with the use of index number and add this element in that number\n",
    "print(student)"
   ]
  },
  {
   "cell_type": "code",
   "execution_count": 7,
   "metadata": {},
   "outputs": [
    {
     "name": "stdout",
     "output_type": "stream",
     "text": [
      "mrunali\n"
     ]
    }
   ],
   "source": [
    "print(student[4])"
   ]
  },
  {
   "cell_type": "code",
   "execution_count": 8,
   "metadata": {},
   "outputs": [
    {
     "data": {
      "text/plain": [
       "['manasi',\n",
       " 'priya',\n",
       " 'aayush',\n",
       " 'sanika',\n",
       " 'mrunali',\n",
       " 'ankita',\n",
       " 'apurva',\n",
       " 'leena',\n",
       " 'vishakha',\n",
       " 'monali',\n",
       " 'nisha',\n",
       " 'pooja']"
      ]
     },
     "execution_count": 8,
     "metadata": {},
     "output_type": "execute_result"
    }
   ],
   "source": [
    "# how to modify  the element in list?\n",
    "student\n"
   ]
  },
  {
   "cell_type": "code",
   "execution_count": 10,
   "metadata": {},
   "outputs": [
    {
     "name": "stdout",
     "output_type": "stream",
     "text": [
      "['manasi', 'priya', 'aayush', 'sanika', 'mrunali', 'ankita', 'apurva', 'leena', 'vishakha', 'monali', 'nisha', 'pooja']\n"
     ]
    }
   ],
   "source": [
    "print(student)"
   ]
  },
  {
   "cell_type": "code",
   "execution_count": 11,
   "metadata": {},
   "outputs": [
    {
     "name": "stdout",
     "output_type": "stream",
     "text": [
      "['manasi', 'rushu', 'aayush', 'sanika', 'mrunali', 'ankita', 'apurva', 'leena', 'vishakha', 'monali', 'nisha', 'pooja']\n"
     ]
    }
   ],
   "source": [
    "student[1]='rushu'\n",
    "print(student)"
   ]
  },
  {
   "cell_type": "code",
   "execution_count": 12,
   "metadata": {
    "scrolled": true
   },
   "outputs": [
    {
     "data": {
      "text/plain": [
       "list"
      ]
     },
     "execution_count": 12,
     "metadata": {},
     "output_type": "execute_result"
    }
   ],
   "source": [
    "type(student)"
   ]
  },
  {
   "cell_type": "code",
   "execution_count": 15,
   "metadata": {
    "scrolled": false
   },
   "outputs": [
    {
     "data": {
      "text/plain": [
       "str"
      ]
     },
     "execution_count": 15,
     "metadata": {},
     "output_type": "execute_result"
    }
   ],
   "source": [
    "type(name)"
   ]
  },
  {
   "cell_type": "code",
   "execution_count": 16,
   "metadata": {},
   "outputs": [
    {
     "name": "stdout",
     "output_type": "stream",
     "text": [
      "['manasi', 'rushu', 'aayush', 'sanika', 'ankita', 'apurva', 'leena', 'vishakha', 'monali', 'nisha', 'pooja']\n"
     ]
    }
   ],
   "source": [
    "#how to delete The element in list?\n",
    "del student[4]\n",
    "print(student)"
   ]
  },
  {
   "cell_type": "code",
   "execution_count": null,
   "metadata": {},
   "outputs": [],
   "source": [
    "#python program to display calender"
   ]
  },
  {
   "cell_type": "code",
   "execution_count": 23,
   "metadata": {},
   "outputs": [
    {
     "name": "stdout",
     "output_type": "stream",
     "text": [
      "     June 1999\n",
      "Mo Tu We Th Fr Sa Su\n",
      "    1  2  3  4  5  6\n",
      " 7  8  9 10 11 12 13\n",
      "14 15 16 17 18 19 20\n",
      "21 22 23 24 25 26 27\n",
      "28 29 30\n",
      "\n"
     ]
    }
   ],
   "source": [
    "import calendar      # modules are predefine programs\n",
    "mm =6    #month\n",
    "yy=1999  #year\n",
    "#to take month and year input from the user\n",
    "#yy=int(input(\"enter year:\"))\n",
    "#display the calender\n",
    "print(calendar.month(yy,mm))"
   ]
  },
  {
   "cell_type": "code",
   "execution_count": 26,
   "metadata": {},
   "outputs": [
    {
     "name": "stdout",
     "output_type": "stream",
     "text": [
      "The value of pi is 3.141592653589793\n"
     ]
    }
   ],
   "source": [
    "#let us find the value of \"pi\"\n",
    "import math        #math is predefine in built function\n",
    "print(\"The value of pi is\", math.pi)"
   ]
  },
  {
   "cell_type": "code",
   "execution_count": 35,
   "metadata": {},
   "outputs": [
    {
     "name": "stdout",
     "output_type": "stream",
     "text": [
      "The sum of 10 and 12 is 22\n"
     ]
    }
   ],
   "source": [
    "#How to add Two numbers two types :=\n",
    "#example 1: Add two numbers\n",
    "num1=10\n",
    "num2=12\n",
    "sum=num1+num2\n",
    "print('The sum of {0} and {1} is {2}'.format(num1,num2,sum))"
   ]
  },
  {
   "cell_type": "code",
   "execution_count": 36,
   "metadata": {},
   "outputs": [
    {
     "name": "stdout",
     "output_type": "stream",
     "text": [
      "The sum of 90.2 and 23.54 is 113.74000000000001\n"
     ]
    }
   ],
   "source": [
    "num1=90.2\n",
    "num2=23.54\n",
    "sum=num1+num2\n",
    "print('The sum of {0} and {1} is {2}'.format(num1,num2,sum))"
   ]
  },
  {
   "cell_type": "code",
   "execution_count": 39,
   "metadata": {},
   "outputs": [
    {
     "name": "stdout",
     "output_type": "stream",
     "text": [
      "Enter first number=12\n",
      "Enter second number=22\n",
      "The sum of 12 and 22 is 34.0\n"
     ]
    }
   ],
   "source": [
    "#Example 2:Add two Numbers with user Input\n",
    "num1 = input(\"Enter first number=\")\n",
    "num2 = input(\"Enter second number=\")\n",
    "sum=float(num1) + float(num2)\n",
    "print('The sum of {0} and {1} is {2}'.format(num1,num2,sum))"
   ]
  },
  {
   "cell_type": "code",
   "execution_count": 86,
   "metadata": {},
   "outputs": [
    {
     "name": "stdout",
     "output_type": "stream",
     "text": [
      "The substraction of 90.2 and 23.54 is 66.66\n"
     ]
    }
   ],
   "source": [
    "#substarction of two numbers with Fixed value\n",
    "num1=90.2\n",
    "num2=23.54\n",
    "sub=float(num1) - float(num2)\n",
    "print('The substraction of {0} and {1} is {2}'.format(num1,num2,sub))"
   ]
  },
  {
   "cell_type": "code",
   "execution_count": 84,
   "metadata": {},
   "outputs": [
    {
     "name": "stdout",
     "output_type": "stream",
     "text": [
      "Enter first number=33\n",
      "Enter second number=2\n",
      "The sum of 33 and 2 is 31.0\n"
     ]
    }
   ],
   "source": [
    "#substarction of two numbers with Float value\n",
    "num1 = input('Enter first number=')\n",
    "num2 = input('Enter second number=')\n",
    "sub=float(num1) - float(num2)\n",
    "print('The substarction of {0} and {1} is {2}'.format(num1,num2,sum))"
   ]
  },
  {
   "cell_type": "code",
   "execution_count": 110,
   "metadata": {},
   "outputs": [
    {
     "name": "stdout",
     "output_type": "stream",
     "text": [
      "The Multiplication of 90 and 23.54 is 2118.6\n"
     ]
    }
   ],
   "source": [
    "#Multiplication of two numbers with Fixed value\n",
    "num1=90\n",
    "num2=23.54\n",
    "mul=float(num1) * float(num2)\n",
    "print('The Multiplication of {0} and {1} is {2}'.format(num1,num2,mul))"
   ]
  },
  {
   "cell_type": "code",
   "execution_count": 111,
   "metadata": {},
   "outputs": [
    {
     "name": "stdout",
     "output_type": "stream",
     "text": [
      "Enter first number=12\n",
      "Enter second number=3\n",
      "The Multiplication of 12 and 3 is 36.0\n"
     ]
    }
   ],
   "source": [
    "#Multiplication of two numbers with Float value\n",
    "num1 = input(\"Enter first number=\")\n",
    "num2 = input(\"Enter second number=\")\n",
    "mul=float(num1) * float(num2)\n",
    "print('The Multiplication of {0} and {1} is {2}'.format(num1,num2,mul))"
   ]
  },
  {
   "cell_type": "code",
   "execution_count": 112,
   "metadata": {},
   "outputs": [
    {
     "name": "stdout",
     "output_type": "stream",
     "text": [
      "The Division of 90 and 30 is 3.0\n"
     ]
    }
   ],
   "source": [
    "#Division of two numbers with Fixed value\n",
    "num1=90\n",
    "num2=30\n",
    "div=float(num1) / float(num2)\n",
    "print('The Division of {0} and {1} is {2}'.format(num1,num2,div))"
   ]
  },
  {
   "cell_type": "code",
   "execution_count": 113,
   "metadata": {},
   "outputs": [
    {
     "name": "stdout",
     "output_type": "stream",
     "text": [
      "Enter first number=12\n",
      "Enter second number=2\n",
      "The Division of 12.0 and 2.0 is 6.0\n"
     ]
    }
   ],
   "source": [
    "#Division of two numbers with Float value\n",
    "num1 = float(input(\"Enter first number=\"))\n",
    "num2 = float(input(\"Enter second number=\"))\n",
    "div=float(num1) / float(num2)\n",
    "print('The Division of {0} and {1} is {2}'.format(num1,num2,div))"
   ]
  },
  {
   "cell_type": "code",
   "execution_count": 82,
   "metadata": {},
   "outputs": [
    {
     "name": "stdout",
     "output_type": "stream",
     "text": [
      "Before swapping fno= 10 And sno= 20\n",
      "After swaaping fno= 20 And sno= 10\n"
     ]
    }
   ],
   "source": [
    "#program for swapping of two numbers\n",
    "fno=10\n",
    "sno=20\n",
    "print('Before swapping fno=', fno,'And sno=',sno)\n",
    "temp=fno\n",
    "fno=sno\n",
    "sno=temp\n",
    "swap \n",
    "print(\"After swaaping fno=\", fno,'And sno=',sno)"
   ]
  },
  {
   "cell_type": "code",
   "execution_count": 64,
   "metadata": {},
   "outputs": [
    {
     "name": "stdout",
     "output_type": "stream",
     "text": [
      "Enter first number=12\n",
      "Enter second number=33\n",
      "33\n"
     ]
    }
   ],
   "source": [
    "#program for find maximum of two number\n",
    "import math\n",
    "num1 = input('Enter first number=')\n",
    "num2 = input(\"Enter second number=\")\n",
    "print(max(num1,num2))"
   ]
  },
  {
   "cell_type": "code",
   "execution_count": 66,
   "metadata": {},
   "outputs": [
    {
     "name": "stdout",
     "output_type": "stream",
     "text": [
      "Enter first number=12\n",
      "Enter second number=55\n",
      "12\n"
     ]
    }
   ],
   "source": [
    "#program for find minimum of two number\n",
    "import math\n",
    "num1 = input('Enter first number=')\n",
    "num2 = input(\"Enter second number=\")\n",
    "print(min(num1,num2))"
   ]
  },
  {
   "cell_type": "code",
   "execution_count": 65,
   "metadata": {},
   "outputs": [
    {
     "name": "stdout",
     "output_type": "stream",
     "text": [
      "Enter first number=12\n",
      "Enter second number=33\n",
      "Enter Third number=55\n",
      "55\n"
     ]
    }
   ],
   "source": [
    "#program for find maximum of three number\n",
    "import math\n",
    "num1 = input('Enter first number=')\n",
    "num2 = input(\"Enter second number=\")\n",
    "num3 = input(\"Enter Third number=\")\n",
    "print(max(num1,num2,num3))"
   ]
  },
  {
   "cell_type": "code",
   "execution_count": 68,
   "metadata": {},
   "outputs": [
    {
     "name": "stdout",
     "output_type": "stream",
     "text": [
      "Enter first number=33\n",
      "Enter second number=55\n",
      "Enter Third number=44\n",
      "33\n"
     ]
    }
   ],
   "source": [
    "#program for find minimum of three number\n",
    "import math\n",
    "num1 = input('Enter first number=')\n",
    "num2 = input(\"Enter second number=\")\n",
    "num3 = input(\"Enter Third number=\")\n",
    "print(min(num1,num2,num3))"
   ]
  },
  {
   "cell_type": "code",
   "execution_count": 9,
   "metadata": {},
   "outputs": [
    {
     "name": "stdout",
     "output_type": "stream",
     "text": [
      "['And', 'Hello', 'Language', 'Let', 'Welcome', 'World', 'a', 'all', 'all', 'come', 'learn', 'new', 'of', 'python', 'the', 'to', 'to', 'to', 'together', 'us']\n"
     ]
    }
   ],
   "source": [
    "#program for sort list in Alphabetical order\n",
    "my_str=(\"Hello to all Welcome to the World of python And Let us all come together to learn a new Language\")\n",
    "words=my_str.split()\n",
    "words.sort()\n",
    "print(words)"
   ]
  },
  {
   "cell_type": "code",
   "execution_count": 40,
   "metadata": {},
   "outputs": [
    {
     "name": "stdout",
     "output_type": "stream",
     "text": [
      " _______________\n",
      "|\t\t|\n",
      "|\t\t|\n",
      "|\t\t|\n",
      "|\t\t|\n",
      "|_______________|\n"
     ]
    }
   ],
   "source": [
    "#program for create square\n",
    "print(\" _______________\\n|\\t\\t|\\n|\\t\\t|\\n|\\t\\t|\\n|\\t\\t|\\n|_______________|\")"
   ]
  },
  {
   "cell_type": "code",
   "execution_count": 49,
   "metadata": {},
   "outputs": [
    {
     "name": "stdout",
     "output_type": "stream",
     "text": [
      " _______________________\n",
      "|\t\t\t|\n",
      "|\t\t\t|\n",
      "|\t\t\t|\n",
      "|\t\t\t|\n",
      "|_______________________|\n"
     ]
    }
   ],
   "source": [
    "#program for rectangle\n",
    "print(\" _______________________\\n|\\t\\t\\t|\\n|\\t\\t\\t|\\n|\\t\\t\\t|\\n|\\t\\t\\t|\\n|_______________________|\")"
   ]
  },
  {
   "cell_type": "code",
   "execution_count": 107,
   "metadata": {},
   "outputs": [
    {
     "name": "stdout",
     "output_type": "stream",
     "text": [
      "\t\t /\\ \n",
      " \t\t/__\\\n"
     ]
    }
   ],
   "source": [
    "#program for Traingle\n",
    "print(\"\\t\\t /\\\\ \\n \\t\\t/__\\\\\")"
   ]
  },
  {
   "cell_type": "code",
   "execution_count": null,
   "metadata": {},
   "outputs": [],
   "source": []
  },
  {
   "cell_type": "code",
   "execution_count": null,
   "metadata": {},
   "outputs": [],
   "source": []
  }
 ],
 "metadata": {
  "kernelspec": {
   "display_name": "Python 3",
   "language": "python",
   "name": "python3"
  },
  "language_info": {
   "codemirror_mode": {
    "name": "ipython",
    "version": 3
   },
   "file_extension": ".py",
   "mimetype": "text/x-python",
   "name": "python",
   "nbconvert_exporter": "python",
   "pygments_lexer": "ipython3",
   "version": "3.8.5"
  }
 },
 "nbformat": 4,
 "nbformat_minor": 4
}
